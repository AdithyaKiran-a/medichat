{
 "cells": [
  {
   "cell_type": "code",
   "execution_count": 1,
   "id": "f28cfbbf-70cc-4af4-8cdf-eb0843de3ee4",
   "metadata": {},
   "outputs": [
    {
     "name": "stderr",
     "output_type": "stream",
     "text": [
      "2025-07-23 19:10:11.743 WARNING streamlit.runtime.scriptrunner_utils.script_run_context: Thread 'MainThread': missing ScriptRunContext! This warning can be ignored when running in bare mode.\n",
      "2025-07-23 19:10:12.386 \n",
      "  \u001b[33m\u001b[1mWarning:\u001b[0m to view this Streamlit app on a browser, run it with the following\n",
      "  command:\n",
      "\n",
      "    streamlit run C:\\Users\\adith\\miniconda3\\envs\\llms\\Lib\\site-packages\\ipykernel_launcher.py [ARGUMENTS]\n",
      "2025-07-23 19:10:12.386 Thread 'MainThread': missing ScriptRunContext! This warning can be ignored when running in bare mode.\n",
      "2025-07-23 19:10:12.390 Thread 'MainThread': missing ScriptRunContext! This warning can be ignored when running in bare mode.\n",
      "2025-07-23 19:10:12.390 Thread 'MainThread': missing ScriptRunContext! This warning can be ignored when running in bare mode.\n",
      "2025-07-23 19:10:12.390 Session state does not function when running a script without `streamlit run`\n",
      "2025-07-23 19:10:12.391 Thread 'MainThread': missing ScriptRunContext! This warning can be ignored when running in bare mode.\n",
      "2025-07-23 19:10:12.391 Thread 'MainThread': missing ScriptRunContext! This warning can be ignored when running in bare mode.\n",
      "2025-07-23 19:10:12.391 Thread 'MainThread': missing ScriptRunContext! This warning can be ignored when running in bare mode.\n",
      "2025-07-23 19:10:12.392 Thread 'MainThread': missing ScriptRunContext! This warning can be ignored when running in bare mode.\n",
      "2025-07-23 19:10:12.392 Thread 'MainThread': missing ScriptRunContext! This warning can be ignored when running in bare mode.\n",
      "2025-07-23 19:10:12.392 Thread 'MainThread': missing ScriptRunContext! This warning can be ignored when running in bare mode.\n",
      "2025-07-23 19:10:12.393 Thread 'MainThread': missing ScriptRunContext! This warning can be ignored when running in bare mode.\n",
      "2025-07-23 19:10:12.393 Thread 'MainThread': missing ScriptRunContext! This warning can be ignored when running in bare mode.\n",
      "2025-07-23 19:10:12.393 Thread 'MainThread': missing ScriptRunContext! This warning can be ignored when running in bare mode.\n"
     ]
    }
   ],
   "source": [
    "import os\n",
    "import streamlit as st\n",
    "import google.generativeai as genai\n",
    "\n",
    "from dotenv import load_dotenv, find_dotenv\n",
    "from langchain.chains import RetrievalQA\n",
    "from langchain_community.vectorstores import FAISS\n",
    "from langchain_core.prompts import PromptTemplate\n",
    "from langchain_huggingface import HuggingFaceEmbeddings\n",
    "\n",
    "# Load environment variables (make sure GOOGLE_API_KEY is set in your .env)\n",
    "load_dotenv(find_dotenv())\n",
    "GOOGLE_API_KEY = os.getenv(\"GEMINI_API_KEY\")\n",
    "\n",
    "DB_FAISS_PATH = \"vectorstore/db_faiss\"\n",
    "\n",
    "@st.cache_resource\n",
    "def get_vectorstore():\n",
    "    embedding_model = HuggingFaceEmbeddings(model_name='sentence-transformers/all-MiniLM-L6-v2')\n",
    "    db = FAISS.load_local(DB_FAISS_PATH, embedding_model, allow_dangerous_deserialization=True)\n",
    "    return db\n",
    "\n",
    "def set_custom_prompt(custom_prompt_template):\n",
    "    prompt = PromptTemplate(template=custom_prompt_template, input_variables=[\"context\", \"question\"])\n",
    "    return prompt\n",
    "\n",
    "def generate_gemini_response(prompt_text):\n",
    "    genai.configure(api_key=GOOGLE_API_KEY)\n",
    "\n",
    "    model = genai.GenerativeModel('gemini-pro')\n",
    "    chat = model.start_chat()\n",
    "    response = chat.send_message(prompt_text)\n",
    "    return response.text\n",
    "\n",
    "def main():\n",
    "    st.title(\"Ask Chatbot (Gemini)\")\n",
    "\n",
    "    if 'messages' not in st.session_state:\n",
    "        st.session_state.messages = []\n",
    "\n",
    "    for message in st.session_state.messages:\n",
    "        st.chat_message(message['role']).markdown(message['content'])\n",
    "\n",
    "    prompt = st.chat_input(\"Ask something\")\n",
    "\n",
    "    if prompt:\n",
    "        st.chat_message('user').markdown(prompt)\n",
    "        st.session_state.messages.append({'role': 'user', 'content': prompt})\n",
    "\n",
    "        CUSTOM_PROMPT_TEMPLATE = \"\"\"\n",
    "        Use the pieces of information provided in the context to answer user's question.\n",
    "        If you don't know the answer, just say you don't know.\n",
    "        Only answer based on the context.\n",
    "\n",
    "        Context: {context}\n",
    "        Question: {question}\n",
    "        \"\"\"\n",
    "\n",
    "        try:\n",
    "            vectorstore = get_vectorstore()\n",
    "            if vectorstore is None:\n",
    "                st.error(\"Vector store could not be loaded.\")\n",
    "                return\n",
    "\n",
    "            retriever = vectorstore.as_retriever(search_kwargs={'k': 3})\n",
    "            docs = retriever.get_relevant_documents(prompt)\n",
    "            context = \"\\n\\n\".join([doc.page_content for doc in docs])\n",
    "\n",
    "            formatted_prompt = CUSTOM_PROMPT_TEMPLATE.format(context=context, question=prompt)\n",
    "\n",
    "            result = generate_gemini_response(formatted_prompt)\n",
    "            sources = \"\\n\".join([doc.metadata.get('source', 'Unknown source') for doc in docs])\n",
    "\n",
    "            result_to_show = result + \"\\n\\nSource Docs:\\n\" + sources\n",
    "\n",
    "            st.chat_message('assistant').markdown(result_to_show)\n",
    "            st.session_state.messages.append({'role': 'assistant', 'content': result_to_show})\n",
    "\n",
    "        except Exception as e:\n",
    "            st.error(f\"Error: {str(e)}\")\n",
    "\n",
    "if __name__ == \"__main__\":\n",
    "    main()\n"
   ]
  },
  {
   "cell_type": "code",
   "execution_count": 2,
   "id": "96b64a3d-5dd9-4fa3-98e0-4fa2aecd9dad",
   "metadata": {},
   "outputs": [
    {
     "ename": "SyntaxError",
     "evalue": "invalid syntax (4033306242.py, line 1)",
     "output_type": "error",
     "traceback": [
      "  \u001b[36mCell\u001b[39m\u001b[36m \u001b[39m\u001b[32mIn[2]\u001b[39m\u001b[32m, line 1\u001b[39m\n\u001b[31m    \u001b[39m\u001b[31mstreamlit run gem.ipynb\u001b[39m\n              ^\n\u001b[31mSyntaxError\u001b[39m\u001b[31m:\u001b[39m invalid syntax\n"
     ]
    }
   ],
   "source": [
    "streamlit run gem.ipynb\n"
   ]
  },
  {
   "cell_type": "code",
   "execution_count": null,
   "id": "182a69e7-f4f3-4719-aefd-3f5c3e711018",
   "metadata": {},
   "outputs": [],
   "source": []
  }
 ],
 "metadata": {
  "kernelspec": {
   "display_name": "Python 3 (ipykernel)",
   "language": "python",
   "name": "python3"
  },
  "language_info": {
   "codemirror_mode": {
    "name": "ipython",
    "version": 3
   },
   "file_extension": ".py",
   "mimetype": "text/x-python",
   "name": "python",
   "nbconvert_exporter": "python",
   "pygments_lexer": "ipython3",
   "version": "3.11.13"
  }
 },
 "nbformat": 4,
 "nbformat_minor": 5
}
