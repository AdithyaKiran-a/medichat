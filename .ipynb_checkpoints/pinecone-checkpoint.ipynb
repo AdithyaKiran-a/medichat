{
 "cells": [
  {
   "cell_type": "code",
   "execution_count": null,
   "id": "1eff23f5-c511-4839-b4d6-56a938648f31",
   "metadata": {},
   "outputs": [],
   "source": [
    "pip install pinecone-client langchain langchain-community langchain-huggingface huggingface-hub\n"
   ]
  },
  {
   "cell_type": "code",
   "execution_count": null,
   "id": "84d62a2b-1897-4e48-b245-83e3819eb835",
   "metadata": {},
   "outputs": [],
   "source": [
    "import os\n",
    "from dotenv import load_dotenv\n",
    "from pinecone import Pinecone, ServerlessSpec\n",
    "from langchain_community.document_loaders import PyPDFLoader, DirectoryLoader\n",
    "from langchain.text_splitter import RecursiveCharacterTextSplitter\n",
    "from langchain_huggingface import HuggingFaceEmbeddings\n",
    "\n",
    "# =========================\n",
    "# Step 1: Load Environment\n",
    "# =========================\n",
    "load_dotenv(override=True)\n",
    "PINECONE_API_KEY = os.getenv(\"PINECONE_API\")\n",
    "PINECONE_REGION = \"us-east-1\"\n",
    "INDEX_NAME = \"medical-chatbot-index\"\n",
    "EMBED_DIM = 1024\n",
    "\n",
    "# =========================\n",
    "# Step 2: Load & Split PDFs\n",
    "# =========================\n",
    "loader = DirectoryLoader(\"data\", glob=\"*.pdf\", loader_cls=PyPDFLoader)\n",
    "documents = loader.load()\n",
    "\n",
    "splitter = RecursiveCharacterTextSplitter(chunk_size=1000, chunk_overlap=150)\n",
    "text_chunks = splitter.split_documents(documents)\n",
    "texts = [chunk.page_content for chunk in text_chunks]\n",
    "\n",
    "# =========================\n",
    "# Step 3: Generate Embeddings\n",
    "# =========================\n",
    "embedding_model = HuggingFaceEmbeddings(model_name=\"intfloat/e5-large-v2\")\n",
    "embeddings = embedding_model.embed_documents(texts)\n",
    "\n",
    "# =========================\n",
    "# Step 4: Initialize Pinecone v3\n",
    "# =========================\n",
    "pc = Pinecone(api_key=PINECONE_API_KEY)\n",
    "\n",
    "# Create index if not exists\n",
    "if INDEX_NAME not in [i.name for i in pc.list_indexes().index_list[\"indexes\"]]:\n",
    "    pc.create_index(\n",
    "        name=INDEX_NAME,\n",
    "        dimension=EMBED_DIM,\n",
    "        metric=\"cosine\",\n",
    "        spec=ServerlessSpec(cloud=\"aws\", region=PINECONE_REGION)\n",
    "    )\n",
    "\n",
    "index = pc.Index(INDEX_NAME)\n",
    "\n",
    "# =========================\n",
    "# Step 5: Upload Vectors\n",
    "# =========================\n",
    "vectors = [\n",
    "    {\n",
    "        \"id\": f\"chunk-{i}\",\n",
    "        \"values\": embeddings[i],\n",
    "        \"metadata\": {\"text\": texts[i]}\n",
    "    }\n",
    "    for i in range(len(texts))\n",
    "]\n",
    "\n",
    "index.upsert(vectors=vectors)\n",
    "print(f\"✅ Uploaded {len(vectors)} vectors to Pinecone index.\")\n"
   ]
  },
  {
   "cell_type": "code",
   "execution_count": null,
   "id": "49dfed63-a158-4cdd-afea-47a95144bc12",
   "metadata": {},
   "outputs": [],
   "source": []
  },
  {
   "cell_type": "code",
   "execution_count": null,
   "id": "9087a26c-6042-4d49-800b-70fea497476b",
   "metadata": {},
   "outputs": [],
   "source": []
  }
 ],
 "metadata": {
  "kernelspec": {
   "display_name": "Python 3 (ipykernel)",
   "language": "python",
   "name": "python3"
  },
  "language_info": {
   "codemirror_mode": {
    "name": "ipython",
    "version": 3
   },
   "file_extension": ".py",
   "mimetype": "text/x-python",
   "name": "python",
   "nbconvert_exporter": "python",
   "pygments_lexer": "ipython3",
   "version": "3.11.13"
  }
 },
 "nbformat": 4,
 "nbformat_minor": 5
}
